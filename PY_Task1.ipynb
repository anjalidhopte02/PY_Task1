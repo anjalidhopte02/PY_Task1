{
 "cells": [
  {
   "cell_type": "markdown",
   "id": "f44d0cf7-472c-4cd0-80da-28c1553484fc",
   "metadata": {},
   "source": [
    "# Task1-PY-Find 15 String function"
   ]
  },
  {
   "cell_type": "markdown",
   "id": "27191b9d-2081-4e9e-a291-814cdb6c7962",
   "metadata": {},
   "source": [
    "## Replace()\n",
    "\n",
    "* Replace function is used to replace set of char or string function"
   ]
  },
  {
   "cell_type": "code",
   "execution_count": 3,
   "id": "bb49441c-bc5e-4952-a01d-6c6799d89167",
   "metadata": {},
   "outputs": [],
   "source": [
    "a= 'Good Morning'"
   ]
  },
  {
   "cell_type": "code",
   "execution_count": 5,
   "id": "569a7d9a-6358-46cc-bf63-61fa2978f63a",
   "metadata": {},
   "outputs": [
    {
     "name": "stdout",
     "output_type": "stream",
     "text": [
      "Good Morning\n"
     ]
    }
   ],
   "source": [
    "print(a)"
   ]
  },
  {
   "cell_type": "code",
   "execution_count": 9,
   "id": "4999af6c-2bd6-46b7-b71f-1628b0025bb4",
   "metadata": {},
   "outputs": [],
   "source": [
    "b=a.replace('Morning','Night')"
   ]
  },
  {
   "cell_type": "code",
   "execution_count": 11,
   "id": "a5009358-c012-4255-b022-634b5dbb55f5",
   "metadata": {},
   "outputs": [
    {
     "name": "stdout",
     "output_type": "stream",
     "text": [
      "Good Night\n"
     ]
    }
   ],
   "source": [
    "print(b)\n"
   ]
  },
  {
   "cell_type": "markdown",
   "id": "09b23fd4-40ae-469f-9278-bbf07bd1a4c3",
   "metadata": {},
   "source": [
    "## Lower()\n",
    "\n",
    "* Converts all uppercase characters in a string into lowercase"
   ]
  },
  {
   "cell_type": "code",
   "execution_count": 26,
   "id": "c1ed2d60-fe6e-49b1-b2ac-95f8da4dc99f",
   "metadata": {},
   "outputs": [
    {
     "data": {
      "text/plain": [
       "'apple'"
      ]
     },
     "execution_count": 26,
     "metadata": {},
     "output_type": "execute_result"
    }
   ],
   "source": [
    "c='APPLE'\n",
    "c.lower()"
   ]
  },
  {
   "cell_type": "markdown",
   "id": "1c3e519a-dc6b-4076-a5de-93ac14506834",
   "metadata": {},
   "source": [
    "## Upper()\n",
    "\n",
    "* Converts all lowercase characters in a string into uppercase"
   ]
  },
  {
   "cell_type": "code",
   "execution_count": 6,
   "id": "af2bfea1-115e-486e-8a7a-9b166e75d351",
   "metadata": {},
   "outputs": [
    {
     "data": {
      "text/plain": [
       "'THIS IS A PY TASK'"
      ]
     },
     "execution_count": 6,
     "metadata": {},
     "output_type": "execute_result"
    }
   ],
   "source": [
    "d='this is a py task'\n",
    "d.upper()"
   ]
  },
  {
   "cell_type": "markdown",
   "id": "5d68b820-8fad-4c85-af91-5469ae31b845",
   "metadata": {},
   "source": [
    "## Split()\n",
    "\n",
    "* Breaks down a string into a list of substring \n"
   ]
  },
  {
   "cell_type": "code",
   "execution_count": 1,
   "id": "cdfbd519-6331-4992-bce7-d8c547e6c7d0",
   "metadata": {},
   "outputs": [
    {
     "data": {
      "text/plain": [
       "['My', 'Name', 'is', 'Anjali']"
      ]
     },
     "execution_count": 1,
     "metadata": {},
     "output_type": "execute_result"
    }
   ],
   "source": [
    "st= 'My Name is Anjali'\n",
    "st.split()"
   ]
  },
  {
   "cell_type": "markdown",
   "id": "7c5b4411-5429-4b69-ab32-1572b6779663",
   "metadata": {},
   "source": [
    "## Capitalize()\n",
    "\n",
    "* Converts the first character to upper case"
   ]
  },
  {
   "cell_type": "markdown",
   "id": "a036a54c-354c-49f7-b3c3-9c4391695b60",
   "metadata": {},
   "source": [
    "st1='hello and welcome'\n",
    "st1.capitalize()"
   ]
  },
  {
   "cell_type": "markdown",
   "id": "6f1c7519-ff68-450f-9b15-b1172b1c2049",
   "metadata": {},
   "source": [
    "## Casefold()\n",
    "\n",
    "* Converts string into lower case"
   ]
  },
  {
   "cell_type": "code",
   "execution_count": 5,
   "id": "307e8d69-a148-4b26-b54d-a6cc508a7770",
   "metadata": {},
   "outputs": [
    {
     "data": {
      "text/plain": [
       "'hello, good morning'"
      ]
     },
     "execution_count": 5,
     "metadata": {},
     "output_type": "execute_result"
    }
   ],
   "source": [
    "st2 = 'Hello, Good Morning'\n",
    "st2.casefold()"
   ]
  },
  {
   "cell_type": "markdown",
   "id": "6100dcfc-e864-4e86-8e07-deaff90c3cde",
   "metadata": {},
   "source": [
    "## Center()\n",
    "\n",
    "* Return a centered string"
   ]
  },
  {
   "cell_type": "code",
   "execution_count": 34,
   "id": "e893e0a4-f58e-489a-819a-9c67ea852b2f",
   "metadata": {},
   "outputs": [
    {
     "data": {
      "text/plain": [
       "'      morning       '"
      ]
     },
     "execution_count": 34,
     "metadata": {},
     "output_type": "execute_result"
    }
   ],
   "source": [
    "tx1='morning'\n",
    "tx1.center(10)"
   ]
  },
  {
   "cell_type": "markdown",
   "id": "8ef96682-bee2-4db7-a11a-e8c2bde14f4d",
   "metadata": {},
   "source": [
    "## Count()\n",
    "\n",
    "* Return the number of times a specified value occurs in string"
   ]
  },
  {
   "cell_type": "code",
   "execution_count": 29,
   "id": "639c260a-78cd-4945-82b1-13ceb2b4b109",
   "metadata": {},
   "outputs": [
    {
     "data": {
      "text/plain": [
       "1"
      ]
     },
     "execution_count": 29,
     "metadata": {},
     "output_type": "execute_result"
    }
   ],
   "source": [
    "txt='python is a programming language'\n",
    "txt.count('python')"
   ]
  },
  {
   "cell_type": "code",
   "execution_count": 40,
   "id": "265f8bed-0e62-4a00-8431-5b76fb0372ba",
   "metadata": {},
   "outputs": [
    {
     "data": {
      "text/plain": [
       "2"
      ]
     },
     "execution_count": 40,
     "metadata": {},
     "output_type": "execute_result"
    }
   ],
   "source": [
    "txt1='python is programming language,python'\n",
    "txt1.count('python')"
   ]
  },
  {
   "cell_type": "markdown",
   "id": "556fa0cf-602d-4322-b9a6-efd701984b33",
   "metadata": {},
   "source": [
    "## Find()\n",
    "\n",
    "* Searches the string for a specified value and returns the position of where it was found"
   ]
  },
  {
   "cell_type": "code",
   "execution_count": 42,
   "id": "e9c32dcb-29cd-405a-b42f-c014d8e4046d",
   "metadata": {},
   "outputs": [
    {
     "data": {
      "text/plain": [
       "1"
      ]
     },
     "execution_count": 42,
     "metadata": {},
     "output_type": "execute_result"
    }
   ],
   "source": [
    "txt.find('y')"
   ]
  },
  {
   "cell_type": "code",
   "execution_count": 44,
   "id": "427ec356-78a4-4af4-a360-69e20b9c9e23",
   "metadata": {},
   "outputs": [
    {
     "data": {
      "text/plain": [
       "7"
      ]
     },
     "execution_count": 44,
     "metadata": {},
     "output_type": "execute_result"
    }
   ],
   "source": [
    "txt.find('i')"
   ]
  },
  {
   "cell_type": "markdown",
   "id": "564cac68-f294-4128-a29b-bb5f7d700266",
   "metadata": {},
   "source": [
    "## Index()\n",
    "\n",
    "* Searches the string for a specific value and returns the position of where it was"
   ]
  },
  {
   "cell_type": "code",
   "execution_count": 46,
   "id": "a14871b4-9752-4da6-95d8-af18538683aa",
   "metadata": {},
   "outputs": [
    {
     "data": {
      "text/plain": [
       "24"
      ]
     },
     "execution_count": 46,
     "metadata": {},
     "output_type": "execute_result"
    }
   ],
   "source": [
    "txt.index('language')"
   ]
  },
  {
   "cell_type": "code",
   "execution_count": 48,
   "id": "f70cb006-c604-4cb9-a236-fb6048d955b1",
   "metadata": {},
   "outputs": [
    {
     "data": {
      "text/plain": [
       "5"
      ]
     },
     "execution_count": 48,
     "metadata": {},
     "output_type": "execute_result"
    }
   ],
   "source": [
    "txt.index('n',5,10)"
   ]
  },
  {
   "cell_type": "markdown",
   "id": "e5424ee0-d52a-4063-a24e-1a71ae35a70f",
   "metadata": {},
   "source": [
    "## Swapcase()\n",
    "\n",
    "* Make lowercase letter upper case and upper case letter lower case."
   ]
  },
  {
   "cell_type": "code",
   "execution_count": 16,
   "id": "d191edfd-374b-46a4-9d43-d10105ef044a",
   "metadata": {},
   "outputs": [
    {
     "data": {
      "text/plain": [
       "'hELLO mY nAME iS a.'"
      ]
     },
     "execution_count": 16,
     "metadata": {},
     "output_type": "execute_result"
    }
   ],
   "source": [
    "txt2='Hello My Name Is A.'\n",
    "txt2.swapcase()"
   ]
  },
  {
   "cell_type": "markdown",
   "id": "a8fe209d-e175-4777-b897-d91667eedef9",
   "metadata": {},
   "source": [
    "## Encode()\n",
    "\n",
    "* Return an encoded version of the string."
   ]
  },
  {
   "cell_type": "code",
   "execution_count": 18,
   "id": "3169be6c-de9e-4294-8ee4-fe9ca0ad5bf3",
   "metadata": {},
   "outputs": [
    {
     "data": {
      "text/plain": [
       "b'Hello My Name Is A.'"
      ]
     },
     "execution_count": 18,
     "metadata": {},
     "output_type": "execute_result"
    }
   ],
   "source": [
    "txt2.encode()\n"
   ]
  },
  {
   "cell_type": "markdown",
   "id": "769bc0dd-0f7f-4e50-9da1-aae3e1cc2690",
   "metadata": {},
   "source": [
    "## Endswith()\n",
    "\n",
    "* Return true if the string ends with the specifiec value."
   ]
  },
  {
   "cell_type": "code",
   "execution_count": 20,
   "id": "f1652d2a-f970-4677-b49b-57657f6c33c8",
   "metadata": {},
   "outputs": [
    {
     "data": {
      "text/plain": [
       "True"
      ]
     },
     "execution_count": 20,
     "metadata": {},
     "output_type": "execute_result"
    }
   ],
   "source": [
    "txt2.endswith('.')"
   ]
  },
  {
   "cell_type": "markdown",
   "id": "a3ed13f1-e217-4029-bd74-6e2ea0215d40",
   "metadata": {},
   "source": [
    "## islower()\n",
    "\n",
    "* Return true if all character in a string are lower case.\n"
   ]
  },
  {
   "cell_type": "code",
   "execution_count": 27,
   "id": "86f41a2c-27cd-41c3-8308-545bfb2a14fd",
   "metadata": {},
   "outputs": [
    {
     "data": {
      "text/plain": [
       "True"
      ]
     },
     "execution_count": 27,
     "metadata": {},
     "output_type": "execute_result"
    }
   ],
   "source": [
    "txt3= 'hello world!'\n",
    "txt3.islower()"
   ]
  },
  {
   "cell_type": "code",
   "execution_count": 29,
   "id": "9c0c8931-d46c-4c60-aea8-4e92de04bb78",
   "metadata": {},
   "outputs": [
    {
     "data": {
      "text/plain": [
       "False"
      ]
     },
     "execution_count": 29,
     "metadata": {},
     "output_type": "execute_result"
    }
   ],
   "source": [
    "txt2.islower()"
   ]
  },
  {
   "cell_type": "markdown",
   "id": "1fe50dbf-2c0e-4f40-92b8-3da2855a790d",
   "metadata": {},
   "source": [
    "## isupper()\n",
    "\n",
    "* Return true if all character in a string are upper case."
   ]
  },
  {
   "cell_type": "code",
   "execution_count": 32,
   "id": "794d2fec-0de8-48ec-9010-d3e0668fa7ca",
   "metadata": {},
   "outputs": [
    {
     "data": {
      "text/plain": [
       "True"
      ]
     },
     "execution_count": 32,
     "metadata": {},
     "output_type": "execute_result"
    }
   ],
   "source": [
    "txt4='HELLO WORLD!'\n",
    "txt4.isupper()"
   ]
  },
  {
   "cell_type": "code",
   "execution_count": 34,
   "id": "dbf9120b-07cb-476b-bcd7-a29a68c83a8a",
   "metadata": {},
   "outputs": [
    {
     "data": {
      "text/plain": [
       "False"
      ]
     },
     "execution_count": 34,
     "metadata": {},
     "output_type": "execute_result"
    }
   ],
   "source": [
    "txt2.isupper()"
   ]
  },
  {
   "cell_type": "code",
   "execution_count": null,
   "id": "13225f89-c51d-4638-9164-db8a036b64b0",
   "metadata": {},
   "outputs": [],
   "source": []
  }
 ],
 "metadata": {
  "kernelspec": {
   "display_name": "Python 3 (ipykernel)",
   "language": "python",
   "name": "python3"
  },
  "language_info": {
   "codemirror_mode": {
    "name": "ipython",
    "version": 3
   },
   "file_extension": ".py",
   "mimetype": "text/x-python",
   "name": "python",
   "nbconvert_exporter": "python",
   "pygments_lexer": "ipython3",
   "version": "3.12.4"
  }
 },
 "nbformat": 4,
 "nbformat_minor": 5
}
